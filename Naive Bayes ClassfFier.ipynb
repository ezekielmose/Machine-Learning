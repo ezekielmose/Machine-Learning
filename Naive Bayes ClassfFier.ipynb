{
 "cells": [
  {
   "cell_type": "markdown",
   "id": "2f92b82f",
   "metadata": {},
   "source": [
    "## Naive Bayes ML Algorithm\n",
    "#### An ML model used to predict wheather a patient has a hearth diseas or not based on certain condition"
   ]
  },
  {
   "cell_type": "code",
   "execution_count": 77,
   "id": "050c5919",
   "metadata": {},
   "outputs": [
    {
     "data": {
      "text/html": [
       "<div>\n",
       "<style scoped>\n",
       "    .dataframe tbody tr th:only-of-type {\n",
       "        vertical-align: middle;\n",
       "    }\n",
       "\n",
       "    .dataframe tbody tr th {\n",
       "        vertical-align: top;\n",
       "    }\n",
       "\n",
       "    .dataframe thead th {\n",
       "        text-align: right;\n",
       "    }\n",
       "</style>\n",
       "<table border=\"1\" class=\"dataframe\">\n",
       "  <thead>\n",
       "    <tr style=\"text-align: right;\">\n",
       "      <th></th>\n",
       "      <th>age</th>\n",
       "      <th>sex</th>\n",
       "      <th>Chest_Pain</th>\n",
       "      <th>Blood_Pressure(mm Hg)</th>\n",
       "      <th>cholestoral (mg/dl)</th>\n",
       "      <th>Fasting_Blood_Sugar</th>\n",
       "      <th>resting electrocardiographic</th>\n",
       "      <th>Maximum_Heart_Rate</th>\n",
       "      <th>Excersize_Includes</th>\n",
       "      <th>ST Depression</th>\n",
       "      <th>Slope_of_Excersize</th>\n",
       "      <th>Number_of_vessels</th>\n",
       "      <th>Thalassemia</th>\n",
       "      <th>Diagnosis_of_Heart_Disease</th>\n",
       "    </tr>\n",
       "  </thead>\n",
       "  <tbody>\n",
       "    <tr>\n",
       "      <th>0</th>\n",
       "      <td>63</td>\n",
       "      <td>1</td>\n",
       "      <td>3</td>\n",
       "      <td>145</td>\n",
       "      <td>233</td>\n",
       "      <td>1</td>\n",
       "      <td>0</td>\n",
       "      <td>150</td>\n",
       "      <td>0</td>\n",
       "      <td>2.3</td>\n",
       "      <td>0</td>\n",
       "      <td>0</td>\n",
       "      <td>1</td>\n",
       "      <td>1</td>\n",
       "    </tr>\n",
       "    <tr>\n",
       "      <th>1</th>\n",
       "      <td>37</td>\n",
       "      <td>1</td>\n",
       "      <td>2</td>\n",
       "      <td>130</td>\n",
       "      <td>250</td>\n",
       "      <td>0</td>\n",
       "      <td>1</td>\n",
       "      <td>187</td>\n",
       "      <td>0</td>\n",
       "      <td>3.5</td>\n",
       "      <td>0</td>\n",
       "      <td>0</td>\n",
       "      <td>2</td>\n",
       "      <td>1</td>\n",
       "    </tr>\n",
       "    <tr>\n",
       "      <th>2</th>\n",
       "      <td>41</td>\n",
       "      <td>0</td>\n",
       "      <td>1</td>\n",
       "      <td>130</td>\n",
       "      <td>204</td>\n",
       "      <td>0</td>\n",
       "      <td>0</td>\n",
       "      <td>172</td>\n",
       "      <td>0</td>\n",
       "      <td>1.4</td>\n",
       "      <td>2</td>\n",
       "      <td>0</td>\n",
       "      <td>2</td>\n",
       "      <td>1</td>\n",
       "    </tr>\n",
       "    <tr>\n",
       "      <th>3</th>\n",
       "      <td>56</td>\n",
       "      <td>1</td>\n",
       "      <td>1</td>\n",
       "      <td>120</td>\n",
       "      <td>236</td>\n",
       "      <td>0</td>\n",
       "      <td>1</td>\n",
       "      <td>178</td>\n",
       "      <td>0</td>\n",
       "      <td>0.8</td>\n",
       "      <td>2</td>\n",
       "      <td>0</td>\n",
       "      <td>2</td>\n",
       "      <td>1</td>\n",
       "    </tr>\n",
       "    <tr>\n",
       "      <th>4</th>\n",
       "      <td>57</td>\n",
       "      <td>0</td>\n",
       "      <td>0</td>\n",
       "      <td>120</td>\n",
       "      <td>354</td>\n",
       "      <td>0</td>\n",
       "      <td>1</td>\n",
       "      <td>163</td>\n",
       "      <td>1</td>\n",
       "      <td>0.6</td>\n",
       "      <td>2</td>\n",
       "      <td>0</td>\n",
       "      <td>2</td>\n",
       "      <td>1</td>\n",
       "    </tr>\n",
       "    <tr>\n",
       "      <th>5</th>\n",
       "      <td>57</td>\n",
       "      <td>1</td>\n",
       "      <td>0</td>\n",
       "      <td>140</td>\n",
       "      <td>192</td>\n",
       "      <td>0</td>\n",
       "      <td>1</td>\n",
       "      <td>148</td>\n",
       "      <td>0</td>\n",
       "      <td>0.4</td>\n",
       "      <td>1</td>\n",
       "      <td>0</td>\n",
       "      <td>1</td>\n",
       "      <td>1</td>\n",
       "    </tr>\n",
       "    <tr>\n",
       "      <th>6</th>\n",
       "      <td>56</td>\n",
       "      <td>0</td>\n",
       "      <td>1</td>\n",
       "      <td>140</td>\n",
       "      <td>294</td>\n",
       "      <td>0</td>\n",
       "      <td>0</td>\n",
       "      <td>153</td>\n",
       "      <td>0</td>\n",
       "      <td>1.3</td>\n",
       "      <td>1</td>\n",
       "      <td>0</td>\n",
       "      <td>2</td>\n",
       "      <td>1</td>\n",
       "    </tr>\n",
       "    <tr>\n",
       "      <th>7</th>\n",
       "      <td>44</td>\n",
       "      <td>1</td>\n",
       "      <td>1</td>\n",
       "      <td>120</td>\n",
       "      <td>263</td>\n",
       "      <td>0</td>\n",
       "      <td>1</td>\n",
       "      <td>173</td>\n",
       "      <td>0</td>\n",
       "      <td>0.0</td>\n",
       "      <td>2</td>\n",
       "      <td>0</td>\n",
       "      <td>3</td>\n",
       "      <td>1</td>\n",
       "    </tr>\n",
       "    <tr>\n",
       "      <th>8</th>\n",
       "      <td>52</td>\n",
       "      <td>1</td>\n",
       "      <td>2</td>\n",
       "      <td>172</td>\n",
       "      <td>199</td>\n",
       "      <td>1</td>\n",
       "      <td>1</td>\n",
       "      <td>162</td>\n",
       "      <td>0</td>\n",
       "      <td>0.5</td>\n",
       "      <td>2</td>\n",
       "      <td>0</td>\n",
       "      <td>3</td>\n",
       "      <td>1</td>\n",
       "    </tr>\n",
       "    <tr>\n",
       "      <th>9</th>\n",
       "      <td>57</td>\n",
       "      <td>1</td>\n",
       "      <td>2</td>\n",
       "      <td>150</td>\n",
       "      <td>168</td>\n",
       "      <td>0</td>\n",
       "      <td>1</td>\n",
       "      <td>174</td>\n",
       "      <td>0</td>\n",
       "      <td>1.6</td>\n",
       "      <td>2</td>\n",
       "      <td>0</td>\n",
       "      <td>2</td>\n",
       "      <td>1</td>\n",
       "    </tr>\n",
       "  </tbody>\n",
       "</table>\n",
       "</div>"
      ],
      "text/plain": [
       "   age  sex  Chest_Pain  Blood_Pressure(mm Hg)  cholestoral (mg/dl)  \\\n",
       "0   63    1           3                    145                  233   \n",
       "1   37    1           2                    130                  250   \n",
       "2   41    0           1                    130                  204   \n",
       "3   56    1           1                    120                  236   \n",
       "4   57    0           0                    120                  354   \n",
       "5   57    1           0                    140                  192   \n",
       "6   56    0           1                    140                  294   \n",
       "7   44    1           1                    120                  263   \n",
       "8   52    1           2                    172                  199   \n",
       "9   57    1           2                    150                  168   \n",
       "\n",
       "   Fasting_Blood_Sugar  resting electrocardiographic  Maximum_Heart_Rate  \\\n",
       "0                    1                             0                 150   \n",
       "1                    0                             1                 187   \n",
       "2                    0                             0                 172   \n",
       "3                    0                             1                 178   \n",
       "4                    0                             1                 163   \n",
       "5                    0                             1                 148   \n",
       "6                    0                             0                 153   \n",
       "7                    0                             1                 173   \n",
       "8                    1                             1                 162   \n",
       "9                    0                             1                 174   \n",
       "\n",
       "   Excersize_Includes  ST Depression  Slope_of_Excersize  Number_of_vessels  \\\n",
       "0                   0            2.3                   0                  0   \n",
       "1                   0            3.5                   0                  0   \n",
       "2                   0            1.4                   2                  0   \n",
       "3                   0            0.8                   2                  0   \n",
       "4                   1            0.6                   2                  0   \n",
       "5                   0            0.4                   1                  0   \n",
       "6                   0            1.3                   1                  0   \n",
       "7                   0            0.0                   2                  0   \n",
       "8                   0            0.5                   2                  0   \n",
       "9                   0            1.6                   2                  0   \n",
       "\n",
       "   Thalassemia  Diagnosis_of_Heart_Disease  \n",
       "0            1                           1  \n",
       "1            2                           1  \n",
       "2            2                           1  \n",
       "3            2                           1  \n",
       "4            2                           1  \n",
       "5            1                           1  \n",
       "6            2                           1  \n",
       "7            3                           1  \n",
       "8            3                           1  \n",
       "9            2                           1  "
      ]
     },
     "execution_count": 77,
     "metadata": {},
     "output_type": "execute_result"
    }
   ],
   "source": [
    "# importing the libraries\n",
    "import pandas as pd\n",
    "hearth_ds = pd.read_csv(r\"E:\\Ezekiel\\Datasets\\Naive_Bayes_Heart_Disease.csv\")    \n",
    "hearth_ds.head(10)"
   ]
  },
  {
   "cell_type": "code",
   "execution_count": 78,
   "id": "dfd9b24e",
   "metadata": {},
   "outputs": [
    {
     "data": {
      "text/plain": [
       "(303, 14)"
      ]
     },
     "execution_count": 78,
     "metadata": {},
     "output_type": "execute_result"
    }
   ],
   "source": [
    "# shape \n",
    "hearth_ds.shape"
   ]
  },
  {
   "cell_type": "code",
   "execution_count": 79,
   "id": "27c01900",
   "metadata": {},
   "outputs": [],
   "source": [
    "# renaming the columns\n",
    "hearth_ds1 = hearth_ds.rename( columns = {'Blood_Pressure(mm Hg)': 'Blood_Pressure',\n",
    "                              'cholestoral (mg/dl)': 'cholestoral', 'resting electrocardiographic': 'resting_electrocardiographic',\n",
    "                              'ST Depression':'ST_Depression'})"
   ]
  },
  {
   "cell_type": "code",
   "execution_count": 80,
   "id": "14b16f4e",
   "metadata": {},
   "outputs": [
    {
     "data": {
      "text/html": [
       "<div>\n",
       "<style scoped>\n",
       "    .dataframe tbody tr th:only-of-type {\n",
       "        vertical-align: middle;\n",
       "    }\n",
       "\n",
       "    .dataframe tbody tr th {\n",
       "        vertical-align: top;\n",
       "    }\n",
       "\n",
       "    .dataframe thead th {\n",
       "        text-align: right;\n",
       "    }\n",
       "</style>\n",
       "<table border=\"1\" class=\"dataframe\">\n",
       "  <thead>\n",
       "    <tr style=\"text-align: right;\">\n",
       "      <th></th>\n",
       "      <th>age</th>\n",
       "      <th>sex</th>\n",
       "      <th>Chest_Pain</th>\n",
       "      <th>Blood_Pressure</th>\n",
       "      <th>cholestoral</th>\n",
       "      <th>Fasting_Blood_Sugar</th>\n",
       "      <th>resting_electrocardiographic</th>\n",
       "      <th>Maximum_Heart_Rate</th>\n",
       "      <th>Excersize_Includes</th>\n",
       "      <th>ST_Depression</th>\n",
       "      <th>Slope_of_Excersize</th>\n",
       "      <th>Number_of_vessels</th>\n",
       "      <th>Thalassemia</th>\n",
       "      <th>Diagnosis_of_Heart_Disease</th>\n",
       "    </tr>\n",
       "  </thead>\n",
       "  <tbody>\n",
       "    <tr>\n",
       "      <th>0</th>\n",
       "      <td>63</td>\n",
       "      <td>1</td>\n",
       "      <td>3</td>\n",
       "      <td>145</td>\n",
       "      <td>233</td>\n",
       "      <td>1</td>\n",
       "      <td>0</td>\n",
       "      <td>150</td>\n",
       "      <td>0</td>\n",
       "      <td>2.3</td>\n",
       "      <td>0</td>\n",
       "      <td>0</td>\n",
       "      <td>1</td>\n",
       "      <td>1</td>\n",
       "    </tr>\n",
       "    <tr>\n",
       "      <th>1</th>\n",
       "      <td>37</td>\n",
       "      <td>1</td>\n",
       "      <td>2</td>\n",
       "      <td>130</td>\n",
       "      <td>250</td>\n",
       "      <td>0</td>\n",
       "      <td>1</td>\n",
       "      <td>187</td>\n",
       "      <td>0</td>\n",
       "      <td>3.5</td>\n",
       "      <td>0</td>\n",
       "      <td>0</td>\n",
       "      <td>2</td>\n",
       "      <td>1</td>\n",
       "    </tr>\n",
       "    <tr>\n",
       "      <th>2</th>\n",
       "      <td>41</td>\n",
       "      <td>0</td>\n",
       "      <td>1</td>\n",
       "      <td>130</td>\n",
       "      <td>204</td>\n",
       "      <td>0</td>\n",
       "      <td>0</td>\n",
       "      <td>172</td>\n",
       "      <td>0</td>\n",
       "      <td>1.4</td>\n",
       "      <td>2</td>\n",
       "      <td>0</td>\n",
       "      <td>2</td>\n",
       "      <td>1</td>\n",
       "    </tr>\n",
       "    <tr>\n",
       "      <th>3</th>\n",
       "      <td>56</td>\n",
       "      <td>1</td>\n",
       "      <td>1</td>\n",
       "      <td>120</td>\n",
       "      <td>236</td>\n",
       "      <td>0</td>\n",
       "      <td>1</td>\n",
       "      <td>178</td>\n",
       "      <td>0</td>\n",
       "      <td>0.8</td>\n",
       "      <td>2</td>\n",
       "      <td>0</td>\n",
       "      <td>2</td>\n",
       "      <td>1</td>\n",
       "    </tr>\n",
       "    <tr>\n",
       "      <th>4</th>\n",
       "      <td>57</td>\n",
       "      <td>0</td>\n",
       "      <td>0</td>\n",
       "      <td>120</td>\n",
       "      <td>354</td>\n",
       "      <td>0</td>\n",
       "      <td>1</td>\n",
       "      <td>163</td>\n",
       "      <td>1</td>\n",
       "      <td>0.6</td>\n",
       "      <td>2</td>\n",
       "      <td>0</td>\n",
       "      <td>2</td>\n",
       "      <td>1</td>\n",
       "    </tr>\n",
       "  </tbody>\n",
       "</table>\n",
       "</div>"
      ],
      "text/plain": [
       "   age  sex  Chest_Pain  Blood_Pressure  cholestoral  Fasting_Blood_Sugar  \\\n",
       "0   63    1           3             145          233                    1   \n",
       "1   37    1           2             130          250                    0   \n",
       "2   41    0           1             130          204                    0   \n",
       "3   56    1           1             120          236                    0   \n",
       "4   57    0           0             120          354                    0   \n",
       "\n",
       "   resting_electrocardiographic  Maximum_Heart_Rate  Excersize_Includes  \\\n",
       "0                             0                 150                   0   \n",
       "1                             1                 187                   0   \n",
       "2                             0                 172                   0   \n",
       "3                             1                 178                   0   \n",
       "4                             1                 163                   1   \n",
       "\n",
       "   ST_Depression  Slope_of_Excersize  Number_of_vessels  Thalassemia  \\\n",
       "0            2.3                   0                  0            1   \n",
       "1            3.5                   0                  0            2   \n",
       "2            1.4                   2                  0            2   \n",
       "3            0.8                   2                  0            2   \n",
       "4            0.6                   2                  0            2   \n",
       "\n",
       "   Diagnosis_of_Heart_Disease  \n",
       "0                           1  \n",
       "1                           1  \n",
       "2                           1  \n",
       "3                           1  \n",
       "4                           1  "
      ]
     },
     "execution_count": 80,
     "metadata": {},
     "output_type": "execute_result"
    }
   ],
   "source": [
    "hearth_ds1.head()"
   ]
  },
  {
   "cell_type": "code",
   "execution_count": 81,
   "id": "69bc6e6d",
   "metadata": {},
   "outputs": [
    {
     "name": "stdout",
     "output_type": "stream",
     "text": [
      "<class 'pandas.core.frame.DataFrame'>\n",
      "RangeIndex: 303 entries, 0 to 302\n",
      "Data columns (total 14 columns):\n",
      " #   Column                        Non-Null Count  Dtype  \n",
      "---  ------                        --------------  -----  \n",
      " 0   age                           303 non-null    int64  \n",
      " 1   sex                           303 non-null    int64  \n",
      " 2   Chest_Pain                    303 non-null    int64  \n",
      " 3   Blood_Pressure                303 non-null    int64  \n",
      " 4   cholestoral                   303 non-null    int64  \n",
      " 5   Fasting_Blood_Sugar           303 non-null    int64  \n",
      " 6   resting_electrocardiographic  303 non-null    int64  \n",
      " 7   Maximum_Heart_Rate            303 non-null    int64  \n",
      " 8   Excersize_Includes            303 non-null    int64  \n",
      " 9   ST_Depression                 303 non-null    float64\n",
      " 10  Slope_of_Excersize            303 non-null    int64  \n",
      " 11  Number_of_vessels             303 non-null    int64  \n",
      " 12  Thalassemia                   303 non-null    int64  \n",
      " 13  Diagnosis_of_Heart_Disease    303 non-null    int64  \n",
      "dtypes: float64(1), int64(13)\n",
      "memory usage: 33.3 KB\n"
     ]
    }
   ],
   "source": [
    "hearth_ds1.info()"
   ]
  },
  {
   "cell_type": "code",
   "execution_count": 50,
   "id": "a9be470a",
   "metadata": {},
   "outputs": [
    {
     "data": {
      "text/plain": [
       "age                             0\n",
       "sex                             0\n",
       "Chest_Pain                      0\n",
       "Blood_Pressure                  0\n",
       "cholestoral                     0\n",
       "Fasting_Blood_Sugar             0\n",
       "resting_electrocardiographic    0\n",
       "Maximum_Heart_Rate              0\n",
       "Excersize_Includes              0\n",
       "ST_Depression                   0\n",
       "Slope_of_Excersize              0\n",
       "Number_of_vessels               0\n",
       "Thalassemia                     0\n",
       "Diagnosis_of_Heart_Disease      0\n",
       "dtype: int64"
      ]
     },
     "execution_count": 50,
     "metadata": {},
     "output_type": "execute_result"
    }
   ],
   "source": [
    "hearth_ds1.isnull().sum()"
   ]
  },
  {
   "cell_type": "markdown",
   "id": "18e97eef",
   "metadata": {},
   "source": [
    "## Data Visualization"
   ]
  },
  {
   "cell_type": "code",
   "execution_count": 51,
   "id": "3d93e446",
   "metadata": {},
   "outputs": [
    {
     "data": {
      "text/html": [
       "<div>\n",
       "<style scoped>\n",
       "    .dataframe tbody tr th:only-of-type {\n",
       "        vertical-align: middle;\n",
       "    }\n",
       "\n",
       "    .dataframe tbody tr th {\n",
       "        vertical-align: top;\n",
       "    }\n",
       "\n",
       "    .dataframe thead th {\n",
       "        text-align: right;\n",
       "    }\n",
       "</style>\n",
       "<table border=\"1\" class=\"dataframe\">\n",
       "  <thead>\n",
       "    <tr style=\"text-align: right;\">\n",
       "      <th></th>\n",
       "      <th>age</th>\n",
       "      <th>sex</th>\n",
       "      <th>Chest_Pain</th>\n",
       "      <th>Blood_Pressure</th>\n",
       "      <th>cholestoral</th>\n",
       "      <th>Fasting_Blood_Sugar</th>\n",
       "      <th>resting_electrocardiographic</th>\n",
       "      <th>Maximum_Heart_Rate</th>\n",
       "      <th>Excersize_Includes</th>\n",
       "      <th>ST_Depression</th>\n",
       "      <th>Slope_of_Excersize</th>\n",
       "      <th>Number_of_vessels</th>\n",
       "      <th>Thalassemia</th>\n",
       "      <th>Diagnosis_of_Heart_Disease</th>\n",
       "    </tr>\n",
       "  </thead>\n",
       "  <tbody>\n",
       "    <tr>\n",
       "      <th>0</th>\n",
       "      <td>63</td>\n",
       "      <td>1</td>\n",
       "      <td>3</td>\n",
       "      <td>145</td>\n",
       "      <td>233</td>\n",
       "      <td>1</td>\n",
       "      <td>0</td>\n",
       "      <td>150</td>\n",
       "      <td>0</td>\n",
       "      <td>2.3</td>\n",
       "      <td>0</td>\n",
       "      <td>0</td>\n",
       "      <td>1</td>\n",
       "      <td>1</td>\n",
       "    </tr>\n",
       "    <tr>\n",
       "      <th>1</th>\n",
       "      <td>37</td>\n",
       "      <td>1</td>\n",
       "      <td>2</td>\n",
       "      <td>130</td>\n",
       "      <td>250</td>\n",
       "      <td>0</td>\n",
       "      <td>1</td>\n",
       "      <td>187</td>\n",
       "      <td>0</td>\n",
       "      <td>3.5</td>\n",
       "      <td>0</td>\n",
       "      <td>0</td>\n",
       "      <td>2</td>\n",
       "      <td>1</td>\n",
       "    </tr>\n",
       "    <tr>\n",
       "      <th>2</th>\n",
       "      <td>41</td>\n",
       "      <td>0</td>\n",
       "      <td>1</td>\n",
       "      <td>130</td>\n",
       "      <td>204</td>\n",
       "      <td>0</td>\n",
       "      <td>0</td>\n",
       "      <td>172</td>\n",
       "      <td>0</td>\n",
       "      <td>1.4</td>\n",
       "      <td>2</td>\n",
       "      <td>0</td>\n",
       "      <td>2</td>\n",
       "      <td>1</td>\n",
       "    </tr>\n",
       "    <tr>\n",
       "      <th>3</th>\n",
       "      <td>56</td>\n",
       "      <td>1</td>\n",
       "      <td>1</td>\n",
       "      <td>120</td>\n",
       "      <td>236</td>\n",
       "      <td>0</td>\n",
       "      <td>1</td>\n",
       "      <td>178</td>\n",
       "      <td>0</td>\n",
       "      <td>0.8</td>\n",
       "      <td>2</td>\n",
       "      <td>0</td>\n",
       "      <td>2</td>\n",
       "      <td>1</td>\n",
       "    </tr>\n",
       "    <tr>\n",
       "      <th>4</th>\n",
       "      <td>57</td>\n",
       "      <td>0</td>\n",
       "      <td>0</td>\n",
       "      <td>120</td>\n",
       "      <td>354</td>\n",
       "      <td>0</td>\n",
       "      <td>1</td>\n",
       "      <td>163</td>\n",
       "      <td>1</td>\n",
       "      <td>0.6</td>\n",
       "      <td>2</td>\n",
       "      <td>0</td>\n",
       "      <td>2</td>\n",
       "      <td>1</td>\n",
       "    </tr>\n",
       "  </tbody>\n",
       "</table>\n",
       "</div>"
      ],
      "text/plain": [
       "   age  sex  Chest_Pain  Blood_Pressure  cholestoral  Fasting_Blood_Sugar  \\\n",
       "0   63    1           3             145          233                    1   \n",
       "1   37    1           2             130          250                    0   \n",
       "2   41    0           1             130          204                    0   \n",
       "3   56    1           1             120          236                    0   \n",
       "4   57    0           0             120          354                    0   \n",
       "\n",
       "   resting_electrocardiographic  Maximum_Heart_Rate  Excersize_Includes  \\\n",
       "0                             0                 150                   0   \n",
       "1                             1                 187                   0   \n",
       "2                             0                 172                   0   \n",
       "3                             1                 178                   0   \n",
       "4                             1                 163                   1   \n",
       "\n",
       "   ST_Depression  Slope_of_Excersize  Number_of_vessels  Thalassemia  \\\n",
       "0            2.3                   0                  0            1   \n",
       "1            3.5                   0                  0            2   \n",
       "2            1.4                   2                  0            2   \n",
       "3            0.8                   2                  0            2   \n",
       "4            0.6                   2                  0            2   \n",
       "\n",
       "   Diagnosis_of_Heart_Disease  \n",
       "0                           1  \n",
       "1                           1  \n",
       "2                           1  \n",
       "3                           1  \n",
       "4                           1  "
      ]
     },
     "execution_count": 51,
     "metadata": {},
     "output_type": "execute_result"
    }
   ],
   "source": [
    "hearth_ds1.head()"
   ]
  },
  {
   "cell_type": "code",
   "execution_count": 52,
   "id": "0e5200a1",
   "metadata": {},
   "outputs": [
    {
     "data": {
      "image/png": "[encoded data removed]",
      "text/plain": [
       "<Figure size 640x480 with 1 Axes>"
      ]
     },
     "metadata": {},
     "output_type": "display_data"
    }
   ],
   "source": [
    "import matplotlib.pyplot as plt\n",
    "\n",
    "# ploting the cross tapulation data for the bar chart\n",
    "pd.crosstab(hearth_ds1['sex'], hearth_ds1['Diagnosis_of_Heart_Disease']).plot(kind='bar')\n",
    "\n",
    "plt.show()"
   ]
  },
  {
   "cell_type": "code",
   "execution_count": 54,
   "id": "147c4a69",
   "metadata": {},
   "outputs": [
    {
     "data": {
      "text/plain": [
       "<AxesSubplot:xlabel='age', ylabel='Blood_Pressure'>"
      ]
     },
     "execution_count": 54,
     "metadata": {},
     "output_type": "execute_result"
    },
    {
     "data": {
      "image/png": "[encoded data removed]",
      "text/plain": [
       "<Figure size 640x480 with 1 Axes>"
      ]
     },
     "metadata": {},
     "output_type": "display_data"
    }
   ],
   "source": [
    "import seaborn as sns\n",
    "\n",
    "sns.scatterplot(x= 'age', y= \"Blood_Pressure\", hue= \"Diagnosis_of_Heart_Disease\", data = hearth_ds1 )"
   ]
  },
  {
   "cell_type": "code",
   "execution_count": 55,
   "id": "ea3f93c9",
   "metadata": {},
   "outputs": [
    {
     "data": {
      "text/plain": [
       "<AxesSubplot:xlabel='age', ylabel='Blood_Pressure'>"
      ]
     },
     "execution_count": 55,
     "metadata": {},
     "output_type": "execute_result"
    },
    {
     "data": {
      "image/png": "[encoded data removed]",
      "text/plain": [
       "<Figure size 640x480 with 1 Axes>"
      ]
     },
     "metadata": {},
     "output_type": "display_data"
    }
   ],
   "source": [
    "\n",
    "sns.scatterplot(x= 'age', y= \"Blood_Pressure\", hue= \"Diagnosis_of_Heart_Disease\", data = hearth_ds1 )"
   ]
  },
  {
   "cell_type": "code",
   "execution_count": 56,
   "id": "338b6e57",
   "metadata": {},
   "outputs": [
    {
     "data": {
      "text/plain": [
       "<AxesSubplot:xlabel='age', ylabel='cholestoral'>"
      ]
     },
     "execution_count": 56,
     "metadata": {},
     "output_type": "execute_result"
    },
    {
     "data": {
      "image/png": "[encoded data removed]",
      "text/plain": [
       "<Figure size 640x480 with 1 Axes>"
      ]
     },
     "metadata": {},
     "output_type": "display_data"
    }
   ],
   "source": [
    "\n",
    "sns.scatterplot(x= 'age', y= \"cholestoral\", hue= \"Diagnosis_of_Heart_Disease\", data = hearth_ds1 )"
   ]
  },
  {
   "cell_type": "code",
   "execution_count": 57,
   "id": "e793d91b",
   "metadata": {},
   "outputs": [
    {
     "data": {
      "text/html": [
       "<div>\n",
       "<style scoped>\n",
       "    .dataframe tbody tr th:only-of-type {\n",
       "        vertical-align: middle;\n",
       "    }\n",
       "\n",
       "    .dataframe tbody tr th {\n",
       "        vertical-align: top;\n",
       "    }\n",
       "\n",
       "    .dataframe thead th {\n",
       "        text-align: right;\n",
       "    }\n",
       "</style>\n",
       "<table border=\"1\" class=\"dataframe\">\n",
       "  <thead>\n",
       "    <tr style=\"text-align: right;\">\n",
       "      <th>Diagnosis_of_Heart_Disease</th>\n",
       "      <th>0</th>\n",
       "      <th>1</th>\n",
       "    </tr>\n",
       "    <tr>\n",
       "      <th>Excersize_Includes</th>\n",
       "      <th></th>\n",
       "      <th></th>\n",
       "    </tr>\n",
       "  </thead>\n",
       "  <tbody>\n",
       "    <tr>\n",
       "      <th>0</th>\n",
       "      <td>62</td>\n",
       "      <td>142</td>\n",
       "    </tr>\n",
       "    <tr>\n",
       "      <th>1</th>\n",
       "      <td>76</td>\n",
       "      <td>23</td>\n",
       "    </tr>\n",
       "  </tbody>\n",
       "</table>\n",
       "</div>"
      ],
      "text/plain": [
       "Diagnosis_of_Heart_Disease   0    1\n",
       "Excersize_Includes                 \n",
       "0                           62  142\n",
       "1                           76   23"
      ]
     },
     "execution_count": 57,
     "metadata": {},
     "output_type": "execute_result"
    }
   ],
   "source": [
    "pd.crosstab(hearth_ds1 ['Excersize_Includes'], hearth_ds1 ['Diagnosis_of_Heart_Disease'] )"
   ]
  },
  {
   "cell_type": "code",
   "execution_count": 13,
   "id": "ec857b87",
   "metadata": {},
   "outputs": [],
   "source": [
    "from sklearn.naive_bayes import BernoulliNB"
   ]
  },
  {
   "cell_type": "code",
   "execution_count": 58,
   "id": "4dcebe41",
   "metadata": {},
   "outputs": [],
   "source": [
    "data = hearth_ds1.iloc[:, :13] #input features\n",
    "\n",
    "target= hearth_ds1.iloc[:, 13] # target feature"
   ]
  },
  {
   "cell_type": "code",
   "execution_count": 59,
   "id": "424d0159",
   "metadata": {},
   "outputs": [
    {
     "data": {
      "text/html": [
       "<div>\n",
       "<style scoped>\n",
       "    .dataframe tbody tr th:only-of-type {\n",
       "        vertical-align: middle;\n",
       "    }\n",
       "\n",
       "    .dataframe tbody tr th {\n",
       "        vertical-align: top;\n",
       "    }\n",
       "\n",
       "    .dataframe thead th {\n",
       "        text-align: right;\n",
       "    }\n",
       "</style>\n",
       "<table border=\"1\" class=\"dataframe\">\n",
       "  <thead>\n",
       "    <tr style=\"text-align: right;\">\n",
       "      <th></th>\n",
       "      <th>age</th>\n",
       "      <th>sex</th>\n",
       "      <th>Chest_Pain</th>\n",
       "      <th>Blood_Pressure</th>\n",
       "      <th>cholestoral</th>\n",
       "      <th>Fasting_Blood_Sugar</th>\n",
       "      <th>resting_electrocardiographic</th>\n",
       "      <th>Maximum_Heart_Rate</th>\n",
       "      <th>Excersize_Includes</th>\n",
       "      <th>ST_Depression</th>\n",
       "      <th>Slope_of_Excersize</th>\n",
       "      <th>Number_of_vessels</th>\n",
       "      <th>Thalassemia</th>\n",
       "    </tr>\n",
       "  </thead>\n",
       "  <tbody>\n",
       "    <tr>\n",
       "      <th>0</th>\n",
       "      <td>63</td>\n",
       "      <td>1</td>\n",
       "      <td>3</td>\n",
       "      <td>145</td>\n",
       "      <td>233</td>\n",
       "      <td>1</td>\n",
       "      <td>0</td>\n",
       "      <td>150</td>\n",
       "      <td>0</td>\n",
       "      <td>2.3</td>\n",
       "      <td>0</td>\n",
       "      <td>0</td>\n",
       "      <td>1</td>\n",
       "    </tr>\n",
       "    <tr>\n",
       "      <th>1</th>\n",
       "      <td>37</td>\n",
       "      <td>1</td>\n",
       "      <td>2</td>\n",
       "      <td>130</td>\n",
       "      <td>250</td>\n",
       "      <td>0</td>\n",
       "      <td>1</td>\n",
       "      <td>187</td>\n",
       "      <td>0</td>\n",
       "      <td>3.5</td>\n",
       "      <td>0</td>\n",
       "      <td>0</td>\n",
       "      <td>2</td>\n",
       "    </tr>\n",
       "    <tr>\n",
       "      <th>2</th>\n",
       "      <td>41</td>\n",
       "      <td>0</td>\n",
       "      <td>1</td>\n",
       "      <td>130</td>\n",
       "      <td>204</td>\n",
       "      <td>0</td>\n",
       "      <td>0</td>\n",
       "      <td>172</td>\n",
       "      <td>0</td>\n",
       "      <td>1.4</td>\n",
       "      <td>2</td>\n",
       "      <td>0</td>\n",
       "      <td>2</td>\n",
       "    </tr>\n",
       "    <tr>\n",
       "      <th>3</th>\n",
       "      <td>56</td>\n",
       "      <td>1</td>\n",
       "      <td>1</td>\n",
       "      <td>120</td>\n",
       "      <td>236</td>\n",
       "      <td>0</td>\n",
       "      <td>1</td>\n",
       "      <td>178</td>\n",
       "      <td>0</td>\n",
       "      <td>0.8</td>\n",
       "      <td>2</td>\n",
       "      <td>0</td>\n",
       "      <td>2</td>\n",
       "    </tr>\n",
       "    <tr>\n",
       "      <th>4</th>\n",
       "      <td>57</td>\n",
       "      <td>0</td>\n",
       "      <td>0</td>\n",
       "      <td>120</td>\n",
       "      <td>354</td>\n",
       "      <td>0</td>\n",
       "      <td>1</td>\n",
       "      <td>163</td>\n",
       "      <td>1</td>\n",
       "      <td>0.6</td>\n",
       "      <td>2</td>\n",
       "      <td>0</td>\n",
       "      <td>2</td>\n",
       "    </tr>\n",
       "  </tbody>\n",
       "</table>\n",
       "</div>"
      ],
      "text/plain": [
       "   age  sex  Chest_Pain  Blood_Pressure  cholestoral  Fasting_Blood_Sugar  \\\n",
       "0   63    1           3             145          233                    1   \n",
       "1   37    1           2             130          250                    0   \n",
       "2   41    0           1             130          204                    0   \n",
       "3   56    1           1             120          236                    0   \n",
       "4   57    0           0             120          354                    0   \n",
       "\n",
       "   resting_electrocardiographic  Maximum_Heart_Rate  Excersize_Includes  \\\n",
       "0                             0                 150                   0   \n",
       "1                             1                 187                   0   \n",
       "2                             0                 172                   0   \n",
       "3                             1                 178                   0   \n",
       "4                             1                 163                   1   \n",
       "\n",
       "   ST_Depression  Slope_of_Excersize  Number_of_vessels  Thalassemia  \n",
       "0            2.3                   0                  0            1  \n",
       "1            3.5                   0                  0            2  \n",
       "2            1.4                   2                  0            2  \n",
       "3            0.8                   2                  0            2  \n",
       "4            0.6                   2                  0            2  "
      ]
     },
     "execution_count": 59,
     "metadata": {},
     "output_type": "execute_result"
    }
   ],
   "source": [
    "data.head()"
   ]
  },
  {
   "cell_type": "code",
   "execution_count": 82,
   "id": "ed78c198",
   "metadata": {},
   "outputs": [
    {
     "data": {
      "text/plain": [
       "(303,)"
      ]
     },
     "execution_count": 82,
     "metadata": {},
     "output_type": "execute_result"
    }
   ],
   "source": [
    "target.shape"
   ]
  },
  {
   "cell_type": "code",
   "execution_count": 61,
   "id": "0312657c",
   "metadata": {},
   "outputs": [],
   "source": [
    "from sklearn.preprocessing import StandardScaler\n",
    "\n",
    "scaler= StandardScaler()\n",
    "\n",
    "data= scaler.fit_transform(data)"
   ]
  },
  {
   "cell_type": "code",
   "execution_count": 62,
   "id": "8de4df8d",
   "metadata": {},
   "outputs": [],
   "source": [
    "# splitting the data\n",
    "\n",
    "from sklearn.model_selection import train_test_split\n",
    "\n",
    "X_train, X_test, Y_train, Y_test = train_test_split (data, target, train_size = 0.7)"
   ]
  },
  {
   "cell_type": "code",
   "execution_count": 63,
   "id": "ed0e5a10",
   "metadata": {},
   "outputs": [
    {
     "data": {
      "text/plain": [
       "BernoulliNB()"
      ]
     },
     "execution_count": 63,
     "metadata": {},
     "output_type": "execute_result"
    }
   ],
   "source": [
    "# model training\n",
    "model= BernoulliNB()\n",
    "model.fit(X_train, Y_train)"
   ]
  },
  {
   "cell_type": "code",
   "execution_count": 64,
   "id": "dc1ddb1f",
   "metadata": {},
   "outputs": [],
   "source": [
    "x_train_prediction= model.predict(X_train)\n",
    "training_data_accuracy= accuracy_score (x_train_prediction, Y_train)"
   ]
  },
  {
   "cell_type": "code",
   "execution_count": 65,
   "id": "0853b03c",
   "metadata": {},
   "outputs": [
    {
     "name": "stdout",
     "output_type": "stream",
     "text": [
      "0.839622641509434\n"
     ]
    }
   ],
   "source": [
    "print (training_data_accuracy) "
   ]
  },
  {
   "cell_type": "code",
   "execution_count": 66,
   "id": "a6dd3dc7",
   "metadata": {},
   "outputs": [],
   "source": [
    "# model prediction\n",
    "pred = model.predict(X_test)"
   ]
  },
  {
   "cell_type": "code",
   "execution_count": 67,
   "id": "e2e64c80",
   "metadata": {},
   "outputs": [
    {
     "data": {
      "text/plain": [
       "0.8461538461538461"
      ]
     },
     "execution_count": 67,
     "metadata": {},
     "output_type": "execute_result"
    }
   ],
   "source": [
    "#checking the model accuracy\n",
    "\n",
    "from sklearn.metrics import *\n",
    "accuracy_score (Y_test, pred)"
   ]
  },
  {
   "cell_type": "code",
   "execution_count": null,
   "id": "a5236b5a",
   "metadata": {},
   "outputs": [],
   "source": []
  },
  {
   "cell_type": "markdown",
   "id": "3c7fc2f8",
   "metadata": {},
   "source": [
    "### Making a Predictive System"
   ]
  },
  {
   "cell_type": "code",
   "execution_count": 68,
   "id": "6dc89e12",
   "metadata": {},
   "outputs": [
    {
     "name": "stdout",
     "output_type": "stream",
     "text": [
      "[[ 0.5110413   0.68100522 -0.93851463  2.19177836  1.54093615 -0.41763453\n",
      "  -1.00583187 -0.42186226  1.43548113  2.03630317 -2.27457861 -0.71442887\n",
      "   1.12302895]]\n",
      "[0]\n",
      "The Person Does not have a Heart Disease\n"
     ]
    }
   ],
   "source": [
    "import numpy as np\n",
    "import warnings\n",
    "warnings.simplefilter('ignore')\n",
    "input_data =(59,1,0,170,326,0,0,140,1,3.4,0,0,3)\n",
    "\n",
    "## changing input data to numpy array because processing is easier than list \n",
    "input_data_as_numpy_array= np.array(input_data)\n",
    "# reshaping the array for predicting \n",
    "\n",
    "input_data_reshaped = input_data_as_numpy_array.reshape(1, -1)\n",
    "\n",
    "# standadize the input data\n",
    "\n",
    "std_data=scaler.transform(input_data_reshaped)\n",
    "\n",
    "print(std_data)\n",
    "\n",
    "prediction = model.predict(std_data)\n",
    "\n",
    "print(prediction)\n",
    "\n",
    "if prediction [0] == 0:\n",
    "    print(\"The Person Does not have a Heart Disease\")\n",
    "else:\n",
    "    print(\"The Person has Heart Disease\")\n"
   ]
  },
  {
   "cell_type": "code",
   "execution_count": 69,
   "id": "e5e0352d",
   "metadata": {},
   "outputs": [],
   "source": [
    "### Saving the training model\n",
    "\n",
    "import pickle # pickle library has functions needed to save the model"
   ]
  },
  {
   "cell_type": "code",
   "execution_count": 70,
   "id": "02f95cca",
   "metadata": {},
   "outputs": [],
   "source": [
    "filename = 'trained_model.sav'\n",
    "pickle.dump(model, open(filename, 'wb'))"
   ]
  },
  {
   "cell_type": "code",
   "execution_count": 71,
   "id": "68d5d4a6",
   "metadata": {},
   "outputs": [],
   "source": [
    "### Loading the saved model\n",
    "\n",
    "loaded_model = pickle.load(open('trained_model.sav', 'rb'))"
   ]
  },
  {
   "cell_type": "code",
   "execution_count": 72,
   "id": "605b8c23",
   "metadata": {},
   "outputs": [
    {
     "name": "stdout",
     "output_type": "stream",
     "text": [
      "[[ 0.5110413   0.68100522 -0.93851463  2.19177836  1.54093615 -0.41763453\n",
      "  -1.00583187 -0.42186226  1.43548113  2.03630317 -2.27457861 -0.71442887\n",
      "   1.12302895]]\n",
      "[0]\n",
      "The Person Does not have a Heart Disease\n"
     ]
    }
   ],
   "source": [
    "input_data =(59,1,0,170,326,0,0,140,1,3.4,0,0,3)\n",
    "\n",
    "## changing input data to numpy array because processing is easier than list \n",
    "input_data_as_numpy_array= np.array(input_data)\n",
    "# reshaping the array for predicting \n",
    "\n",
    "input_data_reshaped = input_data_as_numpy_array.reshape(1, -1)\n",
    "\n",
    "# standadize the input data\n",
    "\n",
    "std_data=scaler.transform(input_data_reshaped)\n",
    "\n",
    "print(std_data)\n",
    "\n",
    "prediction = loaded_model.predict(std_data)\n",
    "\n",
    "print(prediction)\n",
    "\n",
    "if prediction [0] == 0:\n",
    "    print(\"The Person Does not have a Heart Disease\")\n",
    "else:\n",
    "    print(\"The Person has Heart Disease\")"
   ]
  },
  {
   "cell_type": "code",
   "execution_count": null,
   "id": "d315d03e",
   "metadata": {},
   "outputs": [],
   "source": []
  },
  {
   "cell_type": "code",
   "execution_count": null,
   "id": "bbd52e47",
   "metadata": {},
   "outputs": [],
   "source": []
  },
  {
   "cell_type": "code",
   "execution_count": null,
   "id": "f5cefce4",
   "metadata": {},
   "outputs": [],
   "source": []
  },
  {
   "cell_type": "code",
   "execution_count": null,
   "id": "65883532",
   "metadata": {},
   "outputs": [],
   "source": []
  },
  {
   "cell_type": "code",
   "execution_count": null,
   "id": "d5d3b051",
   "metadata": {},
   "outputs": [],
   "source": []
  }
 ],
 "metadata": {
  "kernelspec": {
   "display_name": "Python 3 (ipykernel)",
   "language": "python",
   "name": "python3"
  },
  "language_info": {
   "codemirror_mode": {
    "name": "ipython",
    "version": 3
   },
   "file_extension": ".py",
   "mimetype": "text/x-python",
   "name": "python",
   "nbconvert_exporter": "python",
   "pygments_lexer": "ipython3",
   "version": "3.9.13"
  }
 },
 "nbformat": 4,
 "nbformat_minor": 5
}
